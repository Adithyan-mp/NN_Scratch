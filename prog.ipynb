{
 "cells": [
  {
   "cell_type": "code",
   "execution_count": 1,
   "metadata": {},
   "outputs": [],
   "source": [
    "import numpy as np\n",
    "import pandas as pd\n",
    "import matplotlib.pyplot as plt"
   ]
  },
  {
   "cell_type": "code",
   "execution_count": 21,
   "metadata": {},
   "outputs": [],
   "source": [
    "data_=pd.read_csv('train.csv')\n",
    "\n",
    "\n",
    "data=np.array(data_)\n",
    "m,n=data.shape\n",
    "np.random.shuffle(data)\n",
    "\n",
    "data_dev=data[0:1000].T\n",
    "y_dev=data_dev[0]\n",
    "x_dev=data_dev[1:n]\n",
    "\n",
    "data_train=data[1000:m].T\n",
    "y_train=data_train[0]\n",
    "x_train=data_train[1:n]"
   ]
  },
  {
   "cell_type": "code",
   "execution_count": 29,
   "metadata": {},
   "outputs": [
    {
     "data": {
      "text/plain": [
       "32970000"
      ]
     },
     "execution_count": 29,
     "metadata": {},
     "output_type": "execute_result"
    }
   ],
   "source": [
    "import numpy as np\n",
    "\n",
    "class nn:\n",
    "    def __init__(self, layers: int, units: np.array, X: np.array, Y: np.array) -> None:\n",
    "        self.layers = layers\n",
    "        self.units = units\n",
    "        self.X = X\n",
    "        self.Y = Y\n",
    "        self.W = []  \n",
    "        self.b = []  \n",
    "        self.init_weight()\n",
    "\n",
    "    def init_weight(self):\n",
    "        for i in range(self.layers):\n",
    "            if i == 0:\n",
    "                weight_matrix = np.random.randn(self.X.shape[1], self.units[i]) * np.sqrt(2 / self.X.shape[1])\n",
    "            else:\n",
    "                weight_matrix = np.random.randn(self.units[i-1], self.units[i]) * np.sqrt(2 / self.units[i-1])\n",
    "            self.W.append(weight_matrix)\n",
    "            bias_vector = np.random.randn(self.units[i], 1)\n",
    "            self.b.append(bias_vector)\n",
    "\n",
    "    def ReLU(self, z):\n",
    "        return np.maximum(0, z)\n",
    "    \n",
    "    def softmax(self, z):\n",
    "        z = z - np.max(z, axis=1, keepdims=True)\n",
    "        return np.exp(z) / np.sum(np.exp(z), axis=1, keepdims=True)\n",
    "\n",
    "    def forward_prop(self, X):\n",
    "        a = [X]\n",
    "        z_list = []\n",
    "        for i in range(self.layers):\n",
    "            z = np.dot(a[-1], self.W[i]) + self.b[i].T\n",
    "            z_list.append(z)\n",
    "            if i == self.layers - 1:\n",
    "                a.append(self.softmax(z))\n",
    "            else:\n",
    "                a.append(self.ReLU(z))\n",
    "        return a, z_list\n",
    "\n",
    "    def ReLU_derivative(self, z):\n",
    "        return (z > 0).astype(float)\n",
    "\n",
    "    @staticmethod\n",
    "    def one_hot(Y):\n",
    "        one_hot_Y = np.zeros((Y.size, Y.max() + 1))\n",
    "        one_hot_Y[np.arange(Y.size), Y] = 1\n",
    "        return one_hot_Y\n",
    "\n",
    "    def backward_prop(self, a, z_list):\n",
    "        m = self.Y.shape[0]\n",
    "        one_hot_Y = self.one_hot(self.Y)\n",
    "        \n",
    "        dz = a[-1] - one_hot_Y\n",
    "        dW = np.dot(a[-2].T, dz) / m\n",
    "        db = np.sum(dz, axis=0, keepdims=True).T / m\n",
    "        \n",
    "        grads_W = [dW]\n",
    "        grads_b = [db]\n",
    "\n",
    "        for i in range(self.layers - 2, -1, -1):\n",
    "            dz = np.dot(dz, self.W[i + 1].T) * self.ReLU_derivative(z_list[i])\n",
    "            dW = np.dot(a[i].T, dz) / m\n",
    "            db = np.sum(dz, axis=0, keepdims=True).T / m\n",
    "            grads_W.insert(0, dW)\n",
    "            grads_b.insert(0, db)\n",
    "        \n",
    "        return grads_W, grads_b\n",
    "    \n",
    "    def update_params(self, grads_W, grads_b, learning_rate):\n",
    "        for i in range(self.layers):\n",
    "            self.W[i] -= learning_rate * grads_W[i]\n",
    "            self.b[i] -= learning_rate * grads_b[i]\n",
    "\n",
    "\n"
   ]
  }
 ],
 "metadata": {
  "kernelspec": {
   "display_name": "base",
   "language": "python",
   "name": "python3"
  },
  "language_info": {
   "codemirror_mode": {
    "name": "ipython",
    "version": 3
   },
   "file_extension": ".py",
   "mimetype": "text/x-python",
   "name": "python",
   "nbconvert_exporter": "python",
   "pygments_lexer": "ipython3",
   "version": "3.10.13"
  }
 },
 "nbformat": 4,
 "nbformat_minor": 2
}

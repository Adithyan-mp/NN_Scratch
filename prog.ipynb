{
 "cells": [
  {
   "cell_type": "code",
   "execution_count": 5,
   "metadata": {},
   "outputs": [],
   "source": [
    "import numpy as np\n",
    "import pandas as pd\n",
    "import matplotlib.pyplot as plt"
   ]
  },
  {
   "cell_type": "code",
   "execution_count": 15,
   "metadata": {},
   "outputs": [],
   "source": [
    "data_=pd.read_csv('train.csv')\n",
    "\n",
    "\n",
    "data=np.array(data_)\n",
    "m,n=data.shape\n",
    "np.random.shuffle(data)\n",
    "\n",
    "data_dev=data[0:1000].T\n",
    "y_dev=data_dev[0]\n",
    "x_dev=data_dev[1:n]\n",
    "\n",
    "data_train=data[1000:m].T\n",
    "y_train=data_train[0]\n",
    "x_train=data_train[1:n]"
   ]
  },
  {
   "cell_type": "code",
   "execution_count": 56,
   "metadata": {},
   "outputs": [
    {
     "data": {
      "text/plain": [
       "(784, 1000)"
      ]
     },
     "execution_count": 56,
     "metadata": {},
     "output_type": "execute_result"
    }
   ],
   "source": [
    "x_dev.shape"
   ]
  },
  {
   "cell_type": "code",
   "execution_count": 48,
   "metadata": {},
   "outputs": [
    {
     "name": "stdout",
     "output_type": "stream",
     "text": [
      "(41000, 784)\n"
     ]
    }
   ],
   "source": [
    "print(x_train.shape)"
   ]
  },
  {
   "cell_type": "code",
   "execution_count": 67,
   "metadata": {},
   "outputs": [],
   "source": [
    "def init_params():\n",
    "    W1 = np.random.randn(784, 10) * 0.01\n",
    "    b1 = np.zeros((1, 10))\n",
    "    W2 = np.random.randn(10, 10) * 0.01\n",
    "    b2 = np.zeros((1, 10))\n",
    "    return W1, b1, W2, b2\n",
    "\n",
    "def ReLU(z):\n",
    "    return np.maximum(0, z)\n",
    "\n",
    "def d_ReLU(z):\n",
    "    return z > 0\n",
    "\n",
    "def softmax(z):\n",
    "    exp_z = np.exp(z - np.max(z, axis=1, keepdims=True))  # for numerical stability\n",
    "    return exp_z / np.sum(exp_z, axis=1, keepdims=True)\n",
    "\n",
    "def forward_prop(W1, b1, W2, b2, X):\n",
    "    z1 = np.dot(X, W1) + b1\n",
    "    a1 = ReLU(z1)\n",
    "    z2 = np.dot(a1, W2) + b2\n",
    "    a2 = softmax(z2)\n",
    "    return z1, a1, z2, a2\n",
    "\n",
    "def one_hot(Y, num_classes):\n",
    "    one_hot_Y = np.zeros((Y.size, num_classes))\n",
    "    one_hot_Y[np.arange(Y.size), Y] = 1\n",
    "    return one_hot_Y\n",
    "\n",
    "def back_prop(Z1, A1, Z2, A2, W2, X, Y):\n",
    "    m = Y.size\n",
    "    one_hot_Y = one_hot(Y, A2.shape[1])\n",
    "    dz2 = A2 - one_hot_Y\n",
    "    dW2 = np.dot(A1.T, dz2) / m\n",
    "    db2 = np.sum(dz2, axis=0, keepdims=True) / m\n",
    "    \n",
    "    dz1 = np.dot(dz2, W2.T) * d_ReLU(Z1)\n",
    "    dW1 = np.dot(X.T, dz1) / m\n",
    "    db1 = np.sum(dz1, axis=0, keepdims=True) / m\n",
    "    \n",
    "    return dW1, db1, dW2, db2\n",
    "\n",
    "def update_params(W1, dW1, b1, db1, W2, dW2, b2, db2, alpha):\n",
    "    W1 -= alpha * dW1\n",
    "    b1 -= alpha * db1\n",
    "    W2 -= alpha * dW2\n",
    "    b2 -= alpha * db2\n",
    "    return W1, b1, W2, b2\n",
    "\n",
    "def train(X, Y, epochs, alpha):\n",
    "    W1, b1, W2, b2 = init_params()\n",
    "    for i in range(epochs):\n",
    "        Z1, A1, Z2, A2 = forward_prop(W1, b1, W2, b2, X)\n",
    "        dW1, db1, dW2, db2 = back_prop(Z1, A1, Z2, A2, W2, X, Y)\n",
    "        W1, b1, W2, b2 = update_params(W1, dW1, b1, db1, W2, dW2, b2, db2, alpha)\n",
    "        \n",
    "        if i % 100 == 0:\n",
    "            predictions = np.argmax(A2, axis=1)\n",
    "            accuracy = np.mean(predictions == Y)\n",
    "            print(f\"Iteration {i}: Accuracy = {accuracy * 100:.2f}%\")\n",
    "    return W1, b1, W2, b2\n",
    "\n",
    "def predict(W1, b1, W2, b2, X):\n",
    "    _, _, _, A2 = forward_prop(W1, b1, W2, b2, X)\n",
    "    return np.argmax(A2, axis=1)\n",
    "\n"
   ]
  },
  {
   "cell_type": "code",
   "execution_count": 68,
   "metadata": {},
   "outputs": [
    {
     "name": "stdout",
     "output_type": "stream",
     "text": [
      "Iteration 0: Accuracy = 11.06%\n",
      "Iteration 100: Accuracy = 11.17%\n",
      "Iteration 200: Accuracy = 11.17%\n",
      "Iteration 300: Accuracy = 11.17%\n",
      "Iteration 400: Accuracy = 11.17%\n",
      "Iteration 500: Accuracy = 11.17%\n",
      "Iteration 600: Accuracy = 11.17%\n",
      "Iteration 700: Accuracy = 11.17%\n",
      "Iteration 800: Accuracy = 11.17%\n",
      "Iteration 900: Accuracy = 11.17%\n"
     ]
    }
   ],
   "source": [
    "W1, b1, W2, b2 = train(x_train, y_train, epochs=1000, alpha=0.1)\n",
    "predictions = predict(W1, b1, W2, b2, x_train)"
   ]
  },
  {
   "cell_type": "code",
   "execution_count": 71,
   "metadata": {},
   "outputs": [
    {
     "name": "stdout",
     "output_type": "stream",
     "text": [
      "0.894\n"
     ]
    }
   ],
   "source": [
    "yhat=predict(W1, b1, W2, b2, x_dev.T)\n",
    "print(np.mean(yhat!=y_dev))"
   ]
  }
 ],
 "metadata": {
  "kernelspec": {
   "display_name": "base",
   "language": "python",
   "name": "python3"
  },
  "language_info": {
   "codemirror_mode": {
    "name": "ipython",
    "version": 3
   },
   "file_extension": ".py",
   "mimetype": "text/x-python",
   "name": "python",
   "nbconvert_exporter": "python",
   "pygments_lexer": "ipython3",
   "version": "3.10.13"
  }
 },
 "nbformat": 4,
 "nbformat_minor": 2
}
